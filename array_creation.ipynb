{
 "cells": [
  {
   "cell_type": "code",
   "execution_count": null,
   "id": "281250ca-4e98-4721-a27a-12af7702e595",
   "metadata": {},
   "outputs": [],
   "source": [
    "!pip install numpy"
   ]
  },
  {
   "cell_type": "code",
   "execution_count": 2,
   "id": "d4db7a50-f1da-4ace-8d81-51a4c6b0b7f2",
   "metadata": {},
   "outputs": [],
   "source": [
    "import numpy as np"
   ]
  },
  {
   "cell_type": "code",
   "execution_count": 3,
   "id": "347b836f-8ba9-4457-8d22-c16fdf474a1d",
   "metadata": {},
   "outputs": [
    {
     "data": {
      "text/plain": [
       "array([45, 67, 78, 89])"
      ]
     },
     "execution_count": 3,
     "metadata": {},
     "output_type": "execute_result"
    }
   ],
   "source": [
    "arr=np.array([45,67,78,89])\n",
    "arr"
   ]
  },
  {
   "cell_type": "code",
   "execution_count": null,
   "id": "0208bfce-fcb9-49d6-860d-cea18eac0786",
   "metadata": {},
   "outputs": [],
   "source": [
    "1,2,3,....ndim"
   ]
  },
  {
   "cell_type": "code",
   "execution_count": 21,
   "id": "650fe77c-d0d4-49b1-b99e-d945ca76775c",
   "metadata": {},
   "outputs": [
    {
     "name": "stdout",
     "output_type": "stream",
     "text": [
      "[[[23 45 67]\n",
      "  [78  9  9]\n",
      "  [ 7  6  5]]]\n",
      "3\n"
     ]
    }
   ],
   "source": [
    "arr1=np.array([[[23,45,67],[78,9,9],[7,6,5]]])\n",
    "print(arr1)\n",
    "print(arr1.ndim)"
   ]
  },
  {
   "cell_type": "code",
   "execution_count": 23,
   "id": "b7eec4d9-ee31-44b2-badf-526cb8e75e88",
   "metadata": {},
   "outputs": [
    {
     "data": {
      "text/plain": [
       "array([[1., 1., 1.],\n",
       "       [1., 1., 1.]])"
      ]
     },
     "execution_count": 23,
     "metadata": {},
     "output_type": "execute_result"
    }
   ],
   "source": [
    "num=np.ones((2,3))\n",
    "num"
   ]
  },
  {
   "cell_type": "code",
   "execution_count": 28,
   "id": "cf05cef7-951b-47c6-84a1-14297b9e35ea",
   "metadata": {},
   "outputs": [
    {
     "data": {
      "text/plain": [
       "array([[1., 0., 0., 0.],\n",
       "       [0., 1., 0., 0.],\n",
       "       [0., 0., 1., 0.],\n",
       "       [0., 0., 0., 1.]])"
      ]
     },
     "execution_count": 28,
     "metadata": {},
     "output_type": "execute_result"
    }
   ],
   "source": [
    "num=np.eye(4)\n",
    "num"
   ]
  },
  {
   "cell_type": "code",
   "execution_count": 34,
   "id": "66787429-9bf0-41f5-9d77-ea22f59627cd",
   "metadata": {},
   "outputs": [
    {
     "data": {
      "text/plain": [
       "array([0, 2, 4, 6, 8])"
      ]
     },
     "execution_count": 34,
     "metadata": {},
     "output_type": "execute_result"
    }
   ],
   "source": [
    "num=np.arange(0,10,2)\n",
    "num"
   ]
  },
  {
   "cell_type": "code",
   "execution_count": 40,
   "id": "c57dd7c0-3499-46f3-a6c8-fc55aefd968a",
   "metadata": {},
   "outputs": [
    {
     "data": {
      "text/plain": [
       "array([11.  , 13.25, 15.5 , 17.75, 20.  ])"
      ]
     },
     "execution_count": 40,
     "metadata": {},
     "output_type": "execute_result"
    }
   ],
   "source": [
    "num=np.linspace(11,20,5)\n",
    "num"
   ]
  },
  {
   "cell_type": "code",
   "execution_count": 46,
   "id": "1db9dbd7-8652-4810-9d21-39e01dcffbf6",
   "metadata": {},
   "outputs": [
    {
     "data": {
      "text/plain": [
       "array([[0.48380709, 0.97819013, 0.14950172],\n",
       "       [0.81739459, 0.97388482, 0.73733737]])"
      ]
     },
     "execution_count": 46,
     "metadata": {},
     "output_type": "execute_result"
    }
   ],
   "source": [
    "num=np.random.rand(2,3)\n",
    "num"
   ]
  },
  {
   "cell_type": "code",
   "execution_count": 48,
   "id": "8c31e423-6fc1-4606-9e94-3163ac00950f",
   "metadata": {},
   "outputs": [
    {
     "data": {
      "text/plain": [
       "array([[7, 7],\n",
       "       [7, 7]])"
      ]
     },
     "execution_count": 48,
     "metadata": {},
     "output_type": "execute_result"
    }
   ],
   "source": [
    "num=np.full((2,2),7)\n",
    "num"
   ]
  },
  {
   "cell_type": "code",
   "execution_count": 54,
   "id": "05b54f4b-41a5-4f11-8476-b3e7e755bce0",
   "metadata": {},
   "outputs": [
    {
     "data": {
      "text/plain": [
       "array([[1., 1.],\n",
       "       [1., 1.]])"
      ]
     },
     "execution_count": 54,
     "metadata": {},
     "output_type": "execute_result"
    }
   ],
   "source": [
    "num=np.empty((2,2))\n",
    "num"
   ]
  },
  {
   "cell_type": "code",
   "execution_count": 62,
   "id": "982bba95-f361-4f83-82e6-a78c04be2dd6",
   "metadata": {},
   "outputs": [
    {
     "data": {
      "text/plain": [
       "8"
      ]
     },
     "execution_count": 62,
     "metadata": {},
     "output_type": "execute_result"
    }
   ],
   "source": [
    "num.itemsize"
   ]
  },
  {
   "cell_type": "code",
   "execution_count": 77,
   "id": "b54034f6-7ad8-4713-a0d9-e4eec5eb946f",
   "metadata": {},
   "outputs": [
    {
     "data": {
      "text/plain": [
       "array([[['joe', 'krish', 'maya', 'zoya'],\n",
       "        ['joe', 'krish', 'maya', 'zoya']],\n",
       "\n",
       "       [['joe', 'krish', 'maya', 'zoya'],\n",
       "        ['joe', 'krish', 'maya', 'zoya']]], dtype='<U5')"
      ]
     },
     "execution_count": 77,
     "metadata": {},
     "output_type": "execute_result"
    }
   ],
   "source": [
    "names=np.array([[[\"joe\",\"krish\",\"maya\",\"zoya\"],[\"joe\",\"krish\",\"maya\",\"zoya\"]],\n",
    "                [[\"joe\",\"krish\",\"maya\",\"zoya\"],[\"joe\",\"krish\",\"maya\",\"zoya\"]]])\n",
    "names"
   ]
  },
  {
   "cell_type": "code",
   "execution_count": 57,
   "id": "483f750a-6cff-42cd-bdbe-acc38c47d107",
   "metadata": {},
   "outputs": [
    {
     "data": {
      "text/plain": [
       "(2, 4)"
      ]
     },
     "execution_count": 57,
     "metadata": {},
     "output_type": "execute_result"
    }
   ],
   "source": [
    "names.shape"
   ]
  },
  {
   "cell_type": "code",
   "execution_count": 58,
   "id": "0d2a9f5d-a021-4083-89c2-d72070f2e045",
   "metadata": {},
   "outputs": [
    {
     "data": {
      "text/plain": [
       "8"
      ]
     },
     "execution_count": 58,
     "metadata": {},
     "output_type": "execute_result"
    }
   ],
   "source": [
    "names.size"
   ]
  },
  {
   "cell_type": "code",
   "execution_count": 59,
   "id": "3914166c-304c-45da-87f7-2fec7b22af32",
   "metadata": {},
   "outputs": [
    {
     "data": {
      "text/plain": [
       "dtype('<U5')"
      ]
     },
     "execution_count": 59,
     "metadata": {},
     "output_type": "execute_result"
    }
   ],
   "source": [
    "names.dtype"
   ]
  },
  {
   "cell_type": "code",
   "execution_count": 64,
   "id": "6904599c-2223-4328-a4b5-acf7e11af956",
   "metadata": {},
   "outputs": [
    {
     "data": {
      "text/plain": [
       "160"
      ]
     },
     "execution_count": 64,
     "metadata": {},
     "output_type": "execute_result"
    }
   ],
   "source": [
    "names.nbytes"
   ]
  },
  {
   "cell_type": "code",
   "execution_count": 65,
   "id": "2694ce5b-e654-4b30-9a98-983b9e58c556",
   "metadata": {},
   "outputs": [
    {
     "data": {
      "text/plain": [
       "array([['joe', 'joe'],\n",
       "       ['krish', 'krish'],\n",
       "       ['maya', 'maya'],\n",
       "       ['zoya', 'zoya']], dtype='<U5')"
      ]
     },
     "execution_count": 65,
     "metadata": {},
     "output_type": "execute_result"
    }
   ],
   "source": [
    "names.T"
   ]
  },
  {
   "cell_type": "code",
   "execution_count": 68,
   "id": "a557ca12-cb9e-49a6-bb06-eae212283e40",
   "metadata": {},
   "outputs": [
    {
     "data": {
      "text/plain": [
       "['joe', 'krish', 'maya', 'zoya', 'joe', 'krish', 'maya', 'zoya']"
      ]
     },
     "execution_count": 68,
     "metadata": {},
     "output_type": "execute_result"
    }
   ],
   "source": [
    "list(names.flat)"
   ]
  },
  {
   "cell_type": "code",
   "execution_count": 69,
   "id": "c4184e96-1946-44f0-ab3b-f7349acda81d",
   "metadata": {},
   "outputs": [
    {
     "data": {
      "text/plain": [
       "array([['joe', 'krish', 'maya', 'zoya'],\n",
       "       ['joe', 'krish', 'maya', 'zoya']], dtype='<U5')"
      ]
     },
     "execution_count": 69,
     "metadata": {},
     "output_type": "execute_result"
    }
   ],
   "source": [
    "names"
   ]
  },
  {
   "cell_type": "code",
   "execution_count": 70,
   "id": "5bcb1a55-a725-4b83-8e5e-e3d7a997ec64",
   "metadata": {},
   "outputs": [
    {
     "data": {
      "text/plain": [
       "array([2.+4.j, 9.+5.j])"
      ]
     },
     "execution_count": 70,
     "metadata": {},
     "output_type": "execute_result"
    }
   ],
   "source": [
    "rea=np.array([2+4j,9+5j])\n",
    "rea"
   ]
  },
  {
   "cell_type": "code",
   "execution_count": 71,
   "id": "b71d9393-12af-4217-a2dc-33d464ac86c4",
   "metadata": {},
   "outputs": [
    {
     "data": {
      "text/plain": [
       "array([2., 9.])"
      ]
     },
     "execution_count": 71,
     "metadata": {},
     "output_type": "execute_result"
    }
   ],
   "source": [
    "rea.real"
   ]
  },
  {
   "cell_type": "code",
   "execution_count": 73,
   "id": "f8909399-e90c-4b48-b5f2-e043c0309be4",
   "metadata": {},
   "outputs": [
    {
     "data": {
      "text/plain": [
       "array([4., 5.])"
      ]
     },
     "execution_count": 73,
     "metadata": {},
     "output_type": "execute_result"
    }
   ],
   "source": [
    "rea.imag"
   ]
  },
  {
   "cell_type": "code",
   "execution_count": 74,
   "id": "20dbf5b6-8661-47a9-b04a-8efb4b7b6264",
   "metadata": {},
   "outputs": [
    {
     "data": {
      "text/plain": [
       "<memory at 0x000001FF4D191970>"
      ]
     },
     "execution_count": 74,
     "metadata": {},
     "output_type": "execute_result"
    }
   ],
   "source": [
    "names.data"
   ]
  },
  {
   "cell_type": "code",
   "execution_count": null,
   "id": "af5287d5-9a59-4760-a16f-ed8167b4f1fa",
   "metadata": {},
   "outputs": [],
   "source": []
  }
 ],
 "metadata": {
  "kernelspec": {
   "display_name": "Python 3 (ipykernel)",
   "language": "python",
   "name": "python3"
  },
  "language_info": {
   "codemirror_mode": {
    "name": "ipython",
    "version": 3
   },
   "file_extension": ".py",
   "mimetype": "text/x-python",
   "name": "python",
   "nbconvert_exporter": "python",
   "pygments_lexer": "ipython3",
   "version": "3.11.4"
  }
 },
 "nbformat": 4,
 "nbformat_minor": 5
}
